{
  "nbformat": 4,
  "nbformat_minor": 0,
  "metadata": {
    "colab": {
      "provenance": [],
      "authorship_tag": "ABX9TyNJ3rk2N9NhQuBlRHfZQuVT",
      "include_colab_link": true
    },
    "kernelspec": {
      "name": "python3",
      "display_name": "Python 3"
    },
    "language_info": {
      "name": "python"
    }
  },
  "cells": [
    {
      "cell_type": "markdown",
      "metadata": {
        "id": "view-in-github",
        "colab_type": "text"
      },
      "source": [
        "<a href=\"https://colab.research.google.com/github/21pravi/chatbot/blob/main/chatbot.ipynb\" target=\"_parent\"><img src=\"https://colab.research.google.com/assets/colab-badge.svg\" alt=\"Open In Colab\"/></a>"
      ]
    },
    {
      "cell_type": "code",
      "execution_count": 18,
      "metadata": {
        "id": "BSy_r7RDzEtp"
      },
      "outputs": [],
      "source": [
        "import PyPDF2\n",
        "import nltk\n",
        "from nltk.corpus import stopwords\n",
        "from nltk.tokenize import word_tokenize\n",
        "from nltk.stem import PorterStemmer\n",
        "from sklearn.feature_extraction.text import TfidfVectorizer\n",
        "from sklearn.metrics.pairwise import cosine_similarity\n"
      ]
    },
    {
      "cell_type": "code",
      "source": [
        "!pip install PyPDF2"
      ],
      "metadata": {
        "colab": {
          "base_uri": "https://localhost:8080/"
        },
        "id": "6E1TiclJ0Lua",
        "outputId": "13c23757-1e57-4cfc-d537-a327edf3a50b"
      },
      "execution_count": 4,
      "outputs": [
        {
          "output_type": "stream",
          "name": "stdout",
          "text": [
            "Collecting PyPDF2\n",
            "  Downloading pypdf2-3.0.1-py3-none-any.whl (232 kB)\n",
            "\u001b[?25l     \u001b[90m━━━━━━━━━━━━━━━━━━━━━━━━━━━━━━━━━━━━━━━━\u001b[0m \u001b[32m0.0/232.6 kB\u001b[0m \u001b[31m?\u001b[0m eta \u001b[36m-:--:--\u001b[0m\r\u001b[2K     \u001b[91m━━━━━━━━━━━━━━━━━━━━━━━━━━━━━━━━━\u001b[0m\u001b[90m╺\u001b[0m\u001b[90m━━━━━━\u001b[0m \u001b[32m194.6/232.6 kB\u001b[0m \u001b[31m5.8 MB/s\u001b[0m eta \u001b[36m0:00:01\u001b[0m\r\u001b[2K     \u001b[90m━━━━━━━━━━━━━━━━━━━━━━━━━━━━━━━━━━━━━━━━\u001b[0m \u001b[32m232.6/232.6 kB\u001b[0m \u001b[31m5.2 MB/s\u001b[0m eta \u001b[36m0:00:00\u001b[0m\n",
            "\u001b[?25hInstalling collected packages: PyPDF2\n",
            "Successfully installed PyPDF2-3.0.1\n"
          ]
        }
      ]
    },
    {
      "cell_type": "code",
      "source": [
        "pdf_path = \"/content/linear regression.pdf\"\n"
      ],
      "metadata": {
        "id": "7devfeZ80U5d"
      },
      "execution_count": 31,
      "outputs": []
    },
    {
      "cell_type": "code",
      "source": [
        "def extract_text_from_pdf(pdf_path):\n",
        "    text = \"\"\n",
        "    with open(pdf_path, 'rb') as file:\n",
        "        reader = PyPDF2.PdfReader(file)\n",
        "        for page_num in range(len(reader.pages)):\n",
        "            text += reader.pages[page_num].extract_text()\n",
        "    return text\n",
        "\n",
        "def preprocess_text(text):\n",
        "    nltk.download('punkt')\n",
        "    nltk.download('stopwords')\n",
        "    stop_words = set(stopwords.words('english'))\n",
        "    ps = PorterStemmer()\n",
        "    tokens = word_tokenize(text)\n",
        "    tokens = [ps.stem(token.lower()) for token in tokens if token.isalnum()]\n",
        "    tokens = [token for token in tokens if token not in stop_words]\n",
        "    return \" \".join(tokens)\n"
      ],
      "metadata": {
        "id": "0aCzlH7L0mHI"
      },
      "execution_count": 26,
      "outputs": []
    },
    {
      "cell_type": "code",
      "source": [
        "pdf_path = \"/content/linear regression.pdf\"\n",
        "text = extract_text_from_pdf(pdf_path)\n",
        "preprocessed_text = preprocess_text(text)\n"
      ],
      "metadata": {
        "colab": {
          "base_uri": "https://localhost:8080/"
        },
        "id": "LQpVL7sv0qhL",
        "outputId": "4ba791e0-0072-4ef0-8c52-230d11a71ee1"
      },
      "execution_count": 30,
      "outputs": [
        {
          "output_type": "stream",
          "name": "stderr",
          "text": [
            "[nltk_data] Downloading package punkt to /root/nltk_data...\n",
            "[nltk_data]   Package punkt is already up-to-date!\n",
            "[nltk_data] Downloading package stopwords to /root/nltk_data...\n",
            "[nltk_data]   Package stopwords is already up-to-date!\n"
          ]
        }
      ]
    },
    {
      "cell_type": "code",
      "source": [
        "def answer_question(question, corpus):\n",
        "    tfidf_vectorizer = TfidfVectorizer()\n",
        "    tfidf_matrix = tfidf_vectorizer.fit_transform([question] + corpus)\n",
        "    similarities = cosine_similarity(tfidf_matrix[0:1], tfidf_matrix[1:])[0]\n",
        "    most_similar_index = similarities.argmax()\n",
        "    return corpus[most_similar_index]\n"
      ],
      "metadata": {
        "id": "8kC2sVvh2TLY"
      },
      "execution_count": 28,
      "outputs": []
    },
    {
      "cell_type": "code",
      "source": [
        "question = input(\"Ask your question: \")\n",
        "answer = answer_question(question, preprocessed_text.split('\\n'))\n",
        "print(answer)"
      ],
      "metadata": {
        "colab": {
          "base_uri": "https://localhost:8080/"
        },
        "id": "QWIVPBDA2etf",
        "outputId": "e9da1ded-db94-4a33-cf88-962e02d2c482"
      },
      "execution_count": 33,
      "outputs": [
        {
          "output_type": "stream",
          "name": "stdout",
          "text": [
            "Ask your question: expain the model behind linear regression\n",
            "chapter 9 simpl linear regress analysi appropri quantit outcom singl quantit planatori variabl model behind linear regress examin relationship quantit outcom singl quantit explanatori variabl simpl linear regress monli consid analysi method simpl part tell us onli sider singl explanatori variabl linear regress usual mani diﬀer valu explanatori variabl usual assum valu observ valu explanatori variabl also possibl valu explanatori variabl postul linear relationship ulat mean outcom valu explanatori variabl let ybe outcom xbe explanatori variabl express structur model use equat e e read expect valu indic popul mean read given x indic look possibl valu x restrict singl valu β0 read beta zero intercept paramet β1 read beta one slope paramet common term ani paramet paramet estim use equat predict yfrom 213214 chapter 9 simpl linear regress xiscoeﬃci often 1 subscript β1i replac name explanatori variabl abbrevi structur model say valu xthe popul mean subject particular valu x explanatori variabl calcul use simpl linear express cours make calcul exactli practic becaus two paramet unknown secret natur practic make estim paramet substitut estim equat real life know although equat make predict true mean outcom ani ﬁxed valu explanatori variabl would unwis use extrapol make predict outsid rang xvalu avail studi hand isreason interpol make predict unobserv xvalu observ xvalu structur model essenti assumpt linear least within rang observ explanatori data import realiz linear linear regress doe notimpli onli linear relationship studi technic onli say beta must transform form ok transform xori allow mani relationship repres new scale make relationship linear structur model underli linear regress analysi explanatori outcom variabl linearli relat popul mean outcom ani xvalu error model use particular x could collect mani subject xvalu distribut around popul mean gaussian spread say σ2 valu valu ofx correspond popul mean cours valu σ2i unknown paramet make estim data error model describ far includ onli assumpt normal equal varianc also assumpt assumpt explanatori variabl measur without error sometim thi possibl count number leg insect usual error measur explanatori variabl model behind linear regress 215 need sure size error measur xi small compar variabl yat ani given xvalu thi topic see section robust error model underli linear regress analysi includ assumpt normal equal spread independ ror addit three error model assumpt discuss also assum independ error thi assumpt come idea error deviat true outcom valu popul mean outcom given xvalu one observ unit usual subject predict knowledg error anoth observ unit exampl predict time complet task dose drug suspect aﬀect time know ﬁrst subject took 3 second longer mean possibl subject dose tell us anyth far next subject time abov mean dose thi assumpt trivial violat happen set ident twin studi case seem like one twin ha outcom mean assign dose twin also outcom mean assign dose whether dose diﬀer interest caus correl error subject train group diﬀer trainer import individu diﬀer aﬀect traine perform know particular subject doe better averag give us reason believ subject group probabl perform better averag becaus trainer wa probabl better averag anoth import exampl error serial correl error adjac observ similar thi includ adjac time space exampl studi eﬀect fertil plant growth similar soil water light condit would tend make error adjac plant similar mani experi allow subject observ previou subject perform task measur outcom thi like induc serial correl worst use subject everi observ chang explanatory216 chapter 9 simpl linear regress variabl time serial correl extrem like break assumpt independ error doe indic analysi possibl onli linear regress inappropri analysi method time seri method mix model appropri error correl worst case break independ error assumpt gression observ repeat measur experiment unit subject befor go detail linear regress worth think variabl type explanatori outcom variabl relationship anova linear regress anova linear regress assum normal distribut outcom valu explanatori variabl equival say error normal distribut itli thi indic outcom continu quantit variabl practic speak real measur round therefor continu natur avail us round much variabl essenti discret much round longer approxim smooth gaussian curv fortun regress anova quit robust deviat normal assumpt ok use discret continu outcom least moder number diﬀer valu 10 even reason circumst use regress anova outcom ordin fairli small number level explanatori variabl anova categor nomin imagin studi eﬀect drug outcom ﬁrst experi compar control drug drug particular concentr regress anova would give equival conclus eﬀect drug outcom regress seem inappropri two relat reason way check appropri linear assumpt regress analysi appropri interpol x dose valu inappropri consid anoth experi 0 50 100 mg drug anova regress give diﬀer answer becaus anova make assumpt relationship three popul mean regress assum linear relationship truth linear regress bit model behind linear regress 217 0 2 4 6 8 100 5 10 15 xy figur mnemon simpl regress model anova truth regress make inappropri predict least regress chanc detect anova also lose power becaus incorrectli treat dose nomin least ordin number dose increas appropri use regress instead anova abl better detect ani correct data transform figur way think rememb regress model assumpt four littl normal curv repres normal tribut outcom yvalu four ﬁxed xvalu fact four normal curv spread repres equal varianc tion fact four mean normal curv fall along straight line repres linear assumpt onli ﬁfth assumpt independ error shown thi mnemon chapter 9 simpl linear regress statist hypothes simpl linear regress chief null hypothesi h0 0 correspond altern hypothesi h1 0 thi null hypothesi true e see popul mean yisβ0for everi xvalu tell us xha eﬀect altern chang xare associ chang chang xcaus chang yin random experi sometim reason choos diﬀer null hypothesi β1 ampl xi gold standard particular measur measur often involv great expens yi cheaper substitut obviou null hypothesi 1 altern 1 exampl xi percent bodi fat measur use cumbersom whole bodi immers method andyi percent bodi fat measur use formula base coupl skin fold thick measur expect either slope 1 indic equival measur averag expect diﬀer slope indic skin fold method proport bodi fat sometim also make sens construct null hypothesi β0 usual h0 0 thi onli done follow true data span 0 least data point near 0 statement popul mean yequal zero 0 make scientiﬁc sens diﬀer equal zero equal zero scientiﬁc interest see section interpret inform usual regress null hypothesi h0 0 sometim also meaning test h0 0orh0 1 simpl linear regress exampl simul exampl consid experi corn plant grown pot soil 30 day addit diﬀer amount nitrogen fertil data space delimit text ﬁle column header corn plant ﬁnal weight gram amount nitrogen ad per pot simpl linear regress exampl 219 0 20 40 60 80 100100200300400500600 soil nitrogen final weight gm figur scatterplot corn data eda form scatterplot shown ﬁgure want use eda check assumpt reason befor tri regress analysi see assumpt linear seem plausibl becaus imagin straight line bottom left top right go center point also assumpt equal spread plausibl becaus ani narrow rang nitrogen valu horizont spread weight valu vertic fairli similar assumpt onli doubt thi stage drastic broken assumpt normal someth human test look scatterplot notic instanc onli two possibl outcom whole experi could reject idea distribut weight normal nitrogen level assumpt seen data usual think way explanatori variabl measur judg whether measur precis small spread hard measur amount nitrogen fertil ad pot accept assumpt of220 chapter 9 simpl linear regress case actual perform repeat measur xon case see spread xand thing yat valu reject assumpt ratio xtoyvari larger around assumpt independ error usual visibl data must judg way experi wa run serial correl suspect test test use detect correl onc make initi judgement linear regress stupid thing data base plausibl model examin eda perform linear regress analysi verifi model assumpt residu check regress calcul basic regress analysi use fairli simpl formula get estim paramet β0 β 1 andσ2 estim deriv either two basic approach lead ident result discuss complic maximum likelihood approach least squar approach fairli straightforward say choos line line minim sum squar residu residu vertic distanc individu point regress line principl shown ﬁgure plot show simpl exampl four data point diagon line shown black close equal line ani line character intercept slope intercept yvalu xequal zero exampl sure look care scale doe start zero might read oﬀ intercept incorrectli slope chang yfor chang x becaus line straight read thi oﬀ anywher also equival deﬁnit chang ydivid chang xforanyseg line ﬁgure segment line mark small right triangl vertic chang 2 unit horizont chang 1 unit therefor slope use b0 intercept b1for slope equat line regress calcul 221 0246810120510152025 xy figur least squar chapter 9 simpl linear regress plug diﬀer valu xinto thi equat ﬁnd spond yvalu line drawn ani given b0andb1w get potenti line vertic distanc point line call residu use symbol ˆ yi pronounc hat sub sub mean subscript indic ﬁtted predict valu outcom yfor subject peopl also use sub subject ha explanatori variabl xi predict ˆ residu least squar principl say line one smallest sum squar residu interest note sum residu squar zero line practic realli tri everi possibl line instead use calculu ﬁnd valu b0andb1that give minimum sum squar residu need memor use equat case interest 2 also best estim σ2i 2 whenev ask comput perform simpl linear regress use equat ﬁnd best ﬁt line show us paramet estim time symbol ˆβ0and ˆβ1are use instead b0andb1 even though symbol greek letter hat beta tell us deal statist paramet deriv coeﬃcient estim ssr indic sum squar residu quantiti minim ssr 2 y2 1x2 regress calcul 223 2β1xi 0 0 2β1x2 0 0 littl algebra show thi formula ˆβ1i equival one shown abov becaus 0 ani constant cand variabl z multipl regress matrix formula coeﬃcient estim xi matrix one ﬁrst column intercept valu explanatori variabl subsequ column becaus intercept slope estim statist sampl distribut determin true valu β0 β1 σ2 well posit xvalu number subject xvalu model assumpt correct sampl distribut intercept slope estim mean equal true valu β0andβ1 normal distribut varianc calcul accord fairli simpl formula involv xvalu σ2 practic estim σ2with s2 thi ha two consequ first talk standard error sampl distribut betas224 chapter 9 simpl linear regress instead standard deviat becaus deﬁnit se estim sampl distribut second sampl distribut 1 df see section ni total number subject loos say lose two degre freedom becaus use estim two beta paramet use null hypothesi 0 thi reduc null sampl distribut comput calcul standard error beta valu correspond usual altern esi compar alpha usual make decis whether retain reject null hypothes formula standard error come formula varianc covari matrix joint sampl distribut ˆβ0and ˆβ1which σ2 xi matrix one ﬁrst column intercept valu explanatori variabl second column thi formula also work multipl regress column explanatori variabl standard error coeﬃcient obtain substitut s2for unknown σ2and take squar root diagon element simpl regress thi reduc se b0 x2 2 se b1 x2 2 basic regress output shown tabl form similar produc spss somewhat abbrevi speciﬁc standard cient includ thi tabl see number right constant label label unstandard coeﬃcient b thi call intercept estim estim intercept coeﬃcient estim constant regress calcul 225 unstandard coeﬃcient 95 conﬁdenc interv b b std error sig lower bound upper bound constant nitrogen ad tabl regress result corn experi written b0 ˆβ0or rare b0 β0i incorrect becaus paramet valu β0i ﬁxed unknown secret natur usual say b0 equal becaus origin data experiment data ha 3 signiﬁc ﬁgure number slope estim estim slope coeﬃcient slope timat nitrogen ad coeﬃcient estim nitrogen ad written b1 ˆβ1or rare b1 β1i incorrect sometim symbol βnitrogen orβnfor paramet bnitrogen orbnfor estim use better meaning name especi deal multipl tori variabl multipl oppos simpl regress right intercept slope coeﬃcient ﬁnd standard error usual standard error estim standard deviat spond sampl distribut exampl se bngive idea scale variabl estim bn vari standard deviat approxim around true unknown valu ofβnif repeat whole experi mani time two culat comput program use default null hypothes h0 0 accord gener formula valu βj se bj comput use null sampl distribut df comput area null sampl distribut extrem farther zero coeﬃcient estim thi experi spss report thi usual give mislead output realli chapter 9 simpl linear regress simpl regress null hypothesi h0 0 come b1 applic similar test made β0 spss also give standard coeﬃcient shown coeﬃcient estim obtain explanatori outcom variabl convert subtract mean divid standard deviat condit intercept estim zero shown main use standard coeﬃcient allow son import diﬀer explanatori variabl multipl regress show compar eﬀect chang explanatori variabl one dard deviat instead one unit measur rare use standard coeﬃcient output abov also show 95 conﬁdenc interv b erat spss click conﬁdenc interv statist button given exampl say 95 conﬁdent βni exactli know use method construct cient estim conﬁdenc interv detail abov assumpt regress met time perform experi thi set get diﬀer conﬁdenc interv center width mani conﬁdenc interv 95 contain βnand 5 conﬁdenc interv β1give meaning measur tion paramet uncertainti locat less whether null hypothesi true thi also appli β0 interpret regress coeﬃcient veri import learn correctli complet interpret eﬃcient estim e see b0repres estim mean outcom 0 befor make interpret interpret regress coeffici 227 ﬁrst check rang xvalu cover experiment data xdata near zero intercept still need calcul ˆ yand residu valu interpret becaus extrapol valu xvalu near zero interpret intercept must express term actual mean outcom explanatori variabl exampl thi chapter would say b0 estim corn plant weight gram nitrogen ad pot mean 0 thi point estim limit valu becaus doe express degre uncertainti associ often better use ci b0 thi case say 95 conﬁdent mean weight corn plant ad nitrogen 47 122 gm quit wide rang would quit mislead report mean plant weight gm becaus give fals impress high precis interpret estim ofb0and ci consid whether thenul hypothesi 0 make scientiﬁc sens corn exampl null hypothesi mean plant weight equal zero nitrogen ad becaus unreason plant weigh noth stop interpret intercept anoth exampl consid regress weight gain rat 6 week period relat dose anabol steroid becaus might unsur whether rat initi stabl weight might make sens test h0 0 null hypothesi reject conclud true weight gain zero dose zero control group initi weight wa stabl baselin weight interpret estim b0 onli data near zero set explanatori variabl zero make scientiﬁc sens mean ofb0i estim mean outcom 0 alway state term actual variabl studi valu intercept interpret respect retain reject h0 0 onli equal inequ mean outcom zero explanatori variabl zero scientiﬁc plausibl interpret slope coeﬃcient thi section assum set random experi conclus express term chapter 9 simpl linear regress tion sure substitut associ look observ studi gener mean slope coeﬃcient chang ycaus increas x veri import know unit xare measur mean increas clearli express corn ment slope chang mean corn plant weight gram caus one mg increas nitrogen ad per pot chang substant meaning eﬀect larger chang use interpret corn exampl could say 10 mg increas nitrogen ad caus gram increas plant weight averag also interpret ci β1in corn experi say 95 conﬁdent chang mean plant weight caus 10 mg increas nitrogen gm sure pay attent sign b1 posit b1repres increas outcom caus increas explanatori variabl b1i neg increas explanatori variabl associ fallin outcom magnitud equal absolut valu b1 signiﬁc indic reject null hypothesi 0 express thi evid plant weight aﬀect chang nitrogen ad null hypothesi retain express thi good evid nitrogen ad aﬀect plant weight particularli case retain null hypothesi interpret ci β1 better simpli reli gener mean retain interpret b1i chang increas decreas depend sign averag outcom explanatori variabl increas one unit thi alway state term actual variabl studi retent null hypothesi h0 0indic evid chang xi associ caus random experi chang reject indic chang xcaus chang assum random experi residu check 229 residu check everi regress analysi includ residu analysi check adequaci chosen regress model rememb residu valu data point comput sign diﬀer posit residu indic data point higher expect neg residu indic point lower expect residu deviat outcom predic mean valu subject valu explanatori variabl plot residu predict valu call aresidu ﬁt plot good way check linear equal varianc assumpt plot residu good way check normal assumpt mention abov assumpt check residu analysi ani data analysi serial correl check special residu analys visibl two standard residu plot type correl error detect standard residu analys analyz residu ﬁt plot ani exampl shown ﬁgure mental divid 5 10 vertic stripe stripe repres residu number subject similar predict valu simpl regress onli singl explanatori variabl similar predict valu equival similar valu explanatori variabl care slope neg low xvalu right note sometim set valu explanatori variabl case stripe directli repres subject similar xvalu check linear assumpt consid xvalu mean yfall straight line residu mean zero incorrectli ﬁt straight line curv predict mean incorrect thi caus residu least speciﬁc rang x predic averag speciﬁc data follow simpl curv tend either pattern high low high residu revers techniqu use detect residu ﬁt plot ﬁnd the230 chapter 9 simpl linear regress fit valueresidu fit valueresidu fit fit valueresidu figur sampl residu ﬁt plot test linear vertic mean residu vertic stripe actual mental connect mean either straight line segment possibl smooth curv result connect segment curv close horizont line 0 reason doubt linear assumpt clear curv commonli smile frown shape suspect four exampl shown ﬁgure band mean residu mark line segment connect plot b show obviou pattern away horizont line small amount expect nois plot c show clear deviat normal becaus line connect mean residu vertic band show clear frown c smile pattern rather ﬂat line untransform linear regress inappropri residu check 231 fit fit valueresidu 050100c fit valueresidu 050d fit valueresidu figur sampl residu ﬁt plot test equal varianc data produc plot c practic get better read plot detect unequ spread use vertic band diﬀer way ideal vertic spread residu valu equal vertic band thi take practic judg light expect variabl individu point especi point per band main idea realiz minimum maximum residu ani set data veri robust tend vari lot sampl sampl need estim robust measur spread iqr thi done eyebal middl 50 data eyebal middl 60 80 data also reason way test equal varianc chapter 9 simpl linear regress figur four residu ﬁt plot show good linear red horizont line mark central 60 residu plot b show evid unequ varianc red line similar distanc apart band plot c see red line increas distanc apart move left right thi indic unequ varianc greater varianc high predict valu high xvalu slope posit plot show pattern unequ varianc smallest varianc middl rang predict valu larger varianc end thi take practic least recogn obviou pattern like shown plot c avoid slight variat seen plot b residu ﬁt plot use detect unequ varianc check normal done quantil normal plot seen ﬁgure plot show problem normal residu becaus point show random scatter around refer line see section plot b also consist normal perhap show slight skew left plot c show deﬁnit skew right becaus end see sever point higher expect plot show sever low outlier well heavi tail posit kurtosi becaus low valu low high valu high quantil normal plot residu regress analysi use detect robust simpl linear regress model perfectli repres real world worth learn far bend assumpt without break valu regress analysi linear assumpt violat fairli small amount regress lose mean obviou way thi happen pretat b1 interpret b1a chang mean yfor robust simpl linear regress 233 observ residu quantilesquantil standard observ residu quantilesquantil standard normal observ residu quantilesquantil standard observ residu quantilesquantil standard normal figur sampl qn plot regress chapter 9 simpl linear regress increas x relationship xandyi curv chang yfor increas xvari diﬀer part curv invalid interpret luckili fairli easi detect eda scatterplot residu analysi detect tri ﬁx transform yvariabl common transform log squar root altern common addaddit new explanatori variabl form squar cube etc origin xvariabl one time residu ﬁt plot show linear residu data onli lie 0 1 worth know memor squar root arcsin yi often good transform feel transform cheat origin way data measur usual ha degre arbitrari also common measur like ph acid decibel sound richter earthquak scale log scale often transform valu transform back origin scale result report fact analysi wa transform scale must also report regress reason robust equal varianc assumpt moder degre violat band widest variat twice wide band smallest variat tend caus minim problem sever violat incorrect sens null hypothes tend reject 100 α time null hypothesi true conﬁdenc interv se base also incorrect worrisom violat equal varianc assumpt tri transform yvariabl becaus assumpt appli xvalu transform x ineﬀect regress quit robust normal assumpt onli need worri sever violat markedli skew kurtot residu distribut need worri conﬁdenc interv incorrect case tri transform yvariabl also case data less hand diﬀer yvalu sever truncat data valu pile end limit width scale regress may inappropri due assumpt actual quit import regress abil xmeasur similar larger magnitud variabl theymeasur regress inappropri regress tend give smaller correct slope condit null hypothesi addit interpret regress output 235 slope retain far often altern techniqu requir assumpt broken includ type 2 regress error variabl regress independ error assumpt also critic import regress slight violat twin studi matter mild moder violat destroy valid conﬁdenc interv case use altern techniqu pair repeat measur analysi mix model time seri analysi model correl error rather assum zero correl regress analysi veri robust violat linear independ error assumpt somewhat robust violat equal varianc moder robust violat normal assumpt addit interpret regress put regress output usual includ addit compon beyond slope intercept estim addit regress output shown tabl ha spss label residu statist top label model summari bottom residu statist summar predict ﬁt residu valu well standard valu standard valu transform score use thi tabl detect possibl outlier know lot outcom variabl use unstandard residu inform see minimum maximum standard deviat residu extrem expect less familiar standard residu bigger 3 absolut valu suggest point may outlier standard error estim best estim σfrom model standard deviat scale repres far data fall regress predict scale outcom measur corn analysi onli 5 data fall 2 49 gm away from236 chapter 9 simpl linear regress minimum maximum mean std deviat n predict valu 24 residu 24 std predict valu 24 std residu 24 adjust std error rr squar r squar estim tabl addit regress result corn experi predict line program report mean squar error mse estim σ2 simpl regress close simpl correl xandyi 1 measur strength associ becaus mani correl multipl regress one x need diﬀer way measur overal strength regress use quantitiy call r2valu multipl correl coeﬃcient note appli simpl regress r2i equal squar simpl correl r2can interpret fraction percent multipli 100 total variat outcom account regress outcom explanatori variabl littl math help total variat use case r2 sum squar deviat yvalu mean ss tot note thi quantiti ignor x sinc mean yi best guess outcom ani subject valu explanatori variabl unknown think total variat measur well predict ywithout know x perform regress focu residu squar sum residu get ssre better xhelp predict smaller residu therefor smaller ss reswil interpret ssresa measur unexplain variablil comput total minu residu variabl ss call result explain variabl repres amount variabl ythat use transform 237 explain away regress x comput r2a variabl total sstot sor2i portion total variat ythat explain away use thexinform regress r2i alway 0 1 r2of 0 mean xprovid inform r2of 1 mean use xinform allow perfect predict ywith everi point scatterplot exactli regress line anyth repres diﬀer level close scatter point around regress line corn problem say total variat plant weight explain regress amount nitrogen ad nate clear gener interpret valu r2 might indic great ﬁnding social scienc might indic veri poor ﬁnding chemistri experi r2i measur fraction total variat outcom explain explanatori variabl run 0 1 1 indic perfect predict yfrom x use transform ﬁnd problem equal varianc normal assumpt probabl want see problem goe away use log instead yfor outcom never matter whether choos natur common log problem tri transform x regress transform scale appear meet assumpt linear regress go transform case report result want back transform point estim end conﬁdenc interv better interpret back transform mean invers transform return origin scale invers common log yi 10i invers natur log yisey invers invers invers 1 transform remain chapter 9 simpl linear regress coupl exampl transform interpret coeﬃcient modiﬁ explanatori variabl dose drug outcom log time complet task 2 say best estim log task time drug given 2 best estim time 100 depend log wa use also say 1 unit increas drug log task time increas addit origin scale thi multipl increas assum natur log thi say everi time dose goe anoth 1 unit mean task time get multipli explanatori variabl common log dose outcom blood sugar level 85 18 say log dose blood sugar 85 use 1 thi tell us blood sugar 85 dose equal 1 everi 1 unit increas log dose glucos goe 18 one unit increas log dose ten fold increas dose dose 10 100 log dose 1 2 say everi time dose increas glucos goe 18 transform xoryto diﬀer scale veri use ﬁxing broken assumpt perform simpl linear regress spss perform simpl linear regress spss select menu see linear regress dialog box shown ﬁgure put outcom depend box explanatori variabl independ box recommend check conﬁdenc interv box regress coeﬃcient statist button also click plot button get linear regress plot dialog box shown ﬁgure scatter put zresid box zpred x box produc residu ﬁt plot also check normal probabl plot perform simpl linear regress spss 239 figur linear regress dialog box figur linear regress plot dialog chapter 9 simpl linear regress nutshel simpl linear regress use explor ship quantit outcom quantit explanatori variabl slope b1 test whether chang explanatori variabl realli associ chang outcom interpret conﬁdenc interv β1i usual best way convey ha learn studi occasion also interest intercept interpret given assumpt violat determin think independ error assumpt check residu ﬁt residu qn plot three assumpt\n"
          ]
        }
      ]
    },
    {
      "cell_type": "code",
      "source": [],
      "metadata": {
        "id": "QzmHEmLN3lLx"
      },
      "execution_count": null,
      "outputs": []
    }
  ]
}